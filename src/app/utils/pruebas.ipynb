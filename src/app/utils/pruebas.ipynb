{
 "cells": [
  {
   "cell_type": "code",
   "execution_count": 5,
   "id": "f288c370",
   "metadata": {},
   "outputs": [],
   "source": [
    "from entsoe import EntsoePandasClient\n",
    "import streamlit as st\n",
    "import pandas as pd\n",
    "import numpy as np\n",
    "import matplotlib.pyplot as plt\n",
    "import seaborn as sns\n",
    "from datetime import date\n",
    "from xgboost import XGBRegressor\n",
    "from sklearn.metrics import mean_squared_error, root_mean_squared_error, mean_absolute_error, r2_score\n",
    "from sklearn.pipeline import Pipeline\n",
    "from sklearn.multioutput import MultiOutputRegressor\n",
    "from sklearn.preprocessing import StandardScaler, MinMaxScaler\n",
    "from sklearn.model_selection import GridSearchCV, RandomizedSearchCV, TimeSeriesSplit\n"
   ]
  },
  {
   "cell_type": "code",
   "execution_count": 6,
   "id": "78a6c32b",
   "metadata": {},
   "outputs": [
    {
     "data": {
      "text/plain": [
       "'4c6c5557-cee7-4ded-8578-24391034c06d'"
      ]
     },
     "execution_count": 6,
     "metadata": {},
     "output_type": "execute_result"
    }
   ],
   "source": [
    "with open(r'..\\..\\..\\token.txt', 'r') as file:\n",
    "    API_KEY = file.read()\n",
    "\n",
    "# Los datos a descargar serán desde el 1 de enero de 2020 hasta el 31 de julio de 2025\n",
    "client = EntsoePandasClient(api_key=API_KEY)\n",
    "API_KEY"
   ]
  },
  {
   "cell_type": "code",
   "execution_count": 7,
   "id": "bd67b8fb",
   "metadata": {},
   "outputs": [],
   "source": [
    "def data_transformation(df):\n",
    "    df.columns = df.columns.get_level_values(0)  \n",
    "    df = df.astype(float)\n",
    "    df.index = pd.to_datetime(df.index, utc=True).tz_localize(None)\n",
    "    df_diario = df.resample('D').sum()\n",
    "    df_diario.dropna(axis=1, inplace=True)\n",
    "    df_diario[\"Total_Renovable\"] = df_diario[[\"Biomass\", \"Hydro Run-of-river and poundage\", \"Hydro Water Reservoir\", \n",
    "                            \"Other renewable\", \"Solar\", \"Wind Onshore\", \"Waste\"]].sum(axis=1)\n",
    "\n",
    "    df_diario[\"Total_Fossil\"] = df_diario[[\"Fossil Gas\", \"Fossil Hard coal\", \"Fossil Oil\"]].sum(axis=1)\n",
    "    df_diario.drop(columns=[\"Hydro Pumped Storage\", \"Other\"], inplace=True)\n",
    "    df_time_series  = df_diario[['Total_Renovable', 'Total_Fossil', 'Nuclear', 'Solar', 'Fossil Gas']]\n",
    "    return df_time_series"
   ]
  },
  {
   "cell_type": "code",
   "execution_count": 9,
   "id": "d5d74b85",
   "metadata": {},
   "outputs": [],
   "source": [
    "last_df = pd.read_csv(\n",
    "    r'..\\..\\data\\produccion_electrica_ES.csv',\n",
    "    header=[0, 1],           \n",
    "    index_col=0,             \n",
    "    parse_dates=True,        \n",
    "    low_memory=False)"
   ]
  },
  {
   "cell_type": "code",
   "execution_count": 10,
   "id": "7ce798a0",
   "metadata": {},
   "outputs": [
    {
     "data": {
      "text/plain": [
       "Timestamp('2025-07-15 00:00:00')"
      ]
     },
     "execution_count": 10,
     "metadata": {},
     "output_type": "execute_result"
    }
   ],
   "source": [
    "last_time_series = data_transformation(last_df)\n",
    "last_date= last_time_series.tail(1).index\n",
    "last_date[0]"
   ]
  },
  {
   "cell_type": "code",
   "execution_count": 11,
   "id": "3a106a8a",
   "metadata": {},
   "outputs": [
    {
     "data": {
      "text/plain": [
       "datetime.date(2025, 8, 4)"
      ]
     },
     "execution_count": 11,
     "metadata": {},
     "output_type": "execute_result"
    }
   ],
   "source": [
    "today_date = date.today()\n",
    "today_date"
   ]
  },
  {
   "cell_type": "code",
   "execution_count": 12,
   "id": "75e688bc",
   "metadata": {},
   "outputs": [],
   "source": [
    "start = pd.Timestamp(last_date[0], tz='UTC')\n",
    "end = pd.Timestamp(today_date, tz='UTC')"
   ]
  },
  {
   "cell_type": "code",
   "execution_count": 13,
   "id": "44732f2c",
   "metadata": {},
   "outputs": [],
   "source": [
    "new_data = data_transformation(client.query_generation(\n",
    "    country_code='ES',\n",
    "    start=start, end=end\n",
    "))"
   ]
  },
  {
   "cell_type": "code",
   "execution_count": 14,
   "id": "fb63c9ba",
   "metadata": {},
   "outputs": [
    {
     "data": {
      "text/html": [
       "<div>\n",
       "<style scoped>\n",
       "    .dataframe tbody tr th:only-of-type {\n",
       "        vertical-align: middle;\n",
       "    }\n",
       "\n",
       "    .dataframe tbody tr th {\n",
       "        vertical-align: top;\n",
       "    }\n",
       "\n",
       "    .dataframe thead th {\n",
       "        text-align: right;\n",
       "    }\n",
       "</style>\n",
       "<table border=\"1\" class=\"dataframe\">\n",
       "  <thead>\n",
       "    <tr style=\"text-align: right;\">\n",
       "      <th></th>\n",
       "      <th>Total_Renovable</th>\n",
       "      <th>Total_Fossil</th>\n",
       "      <th>Nuclear</th>\n",
       "      <th>Solar</th>\n",
       "      <th>Fossil Gas</th>\n",
       "    </tr>\n",
       "  </thead>\n",
       "  <tbody>\n",
       "    <tr>\n",
       "      <th>2025-07-15</th>\n",
       "      <td>1724548.0</td>\n",
       "      <td>621980.0</td>\n",
       "      <td>667764.0</td>\n",
       "      <td>1035612.0</td>\n",
       "      <td>617380.0</td>\n",
       "    </tr>\n",
       "    <tr>\n",
       "      <th>2025-07-16</th>\n",
       "      <td>1630888.0</td>\n",
       "      <td>766352.0</td>\n",
       "      <td>667180.0</td>\n",
       "      <td>1047012.0</td>\n",
       "      <td>762044.0</td>\n",
       "    </tr>\n",
       "    <tr>\n",
       "      <th>2025-07-17</th>\n",
       "      <td>1577536.0</td>\n",
       "      <td>833468.0</td>\n",
       "      <td>641000.0</td>\n",
       "      <td>975476.0</td>\n",
       "      <td>829616.0</td>\n",
       "    </tr>\n",
       "    <tr>\n",
       "      <th>2025-07-18</th>\n",
       "      <td>1755732.0</td>\n",
       "      <td>669516.0</td>\n",
       "      <td>664772.0</td>\n",
       "      <td>931516.0</td>\n",
       "      <td>665540.0</td>\n",
       "    </tr>\n",
       "    <tr>\n",
       "      <th>2025-07-19</th>\n",
       "      <td>1668664.0</td>\n",
       "      <td>420900.0</td>\n",
       "      <td>668524.0</td>\n",
       "      <td>817324.0</td>\n",
       "      <td>418728.0</td>\n",
       "    </tr>\n",
       "    <tr>\n",
       "      <th>2025-07-20</th>\n",
       "      <td>1624312.0</td>\n",
       "      <td>372488.0</td>\n",
       "      <td>659436.0</td>\n",
       "      <td>738316.0</td>\n",
       "      <td>370404.0</td>\n",
       "    </tr>\n",
       "    <tr>\n",
       "      <th>2025-07-21</th>\n",
       "      <td>1669248.0</td>\n",
       "      <td>520548.0</td>\n",
       "      <td>670468.0</td>\n",
       "      <td>1005300.0</td>\n",
       "      <td>517512.0</td>\n",
       "    </tr>\n",
       "    <tr>\n",
       "      <th>2025-07-22</th>\n",
       "      <td>1561768.0</td>\n",
       "      <td>606604.0</td>\n",
       "      <td>668752.0</td>\n",
       "      <td>965256.0</td>\n",
       "      <td>603232.0</td>\n",
       "    </tr>\n",
       "    <tr>\n",
       "      <th>2025-07-23</th>\n",
       "      <td>1557956.0</td>\n",
       "      <td>692760.0</td>\n",
       "      <td>668792.0</td>\n",
       "      <td>704036.0</td>\n",
       "      <td>689116.0</td>\n",
       "    </tr>\n",
       "    <tr>\n",
       "      <th>2025-07-24</th>\n",
       "      <td>1905252.0</td>\n",
       "      <td>462860.0</td>\n",
       "      <td>671888.0</td>\n",
       "      <td>747032.0</td>\n",
       "      <td>460284.0</td>\n",
       "    </tr>\n",
       "    <tr>\n",
       "      <th>2025-07-25</th>\n",
       "      <td>1846096.0</td>\n",
       "      <td>398944.0</td>\n",
       "      <td>672928.0</td>\n",
       "      <td>830244.0</td>\n",
       "      <td>396548.0</td>\n",
       "    </tr>\n",
       "    <tr>\n",
       "      <th>2025-07-26</th>\n",
       "      <td>1709808.0</td>\n",
       "      <td>379032.0</td>\n",
       "      <td>670368.0</td>\n",
       "      <td>854276.0</td>\n",
       "      <td>376836.0</td>\n",
       "    </tr>\n",
       "    <tr>\n",
       "      <th>2025-07-27</th>\n",
       "      <td>1540388.0</td>\n",
       "      <td>413788.0</td>\n",
       "      <td>671452.0</td>\n",
       "      <td>796488.0</td>\n",
       "      <td>411636.0</td>\n",
       "    </tr>\n",
       "    <tr>\n",
       "      <th>2025-07-28</th>\n",
       "      <td>1943304.0</td>\n",
       "      <td>432112.0</td>\n",
       "      <td>672212.0</td>\n",
       "      <td>875980.0</td>\n",
       "      <td>429632.0</td>\n",
       "    </tr>\n",
       "    <tr>\n",
       "      <th>2025-07-29</th>\n",
       "      <td>1904948.0</td>\n",
       "      <td>441192.0</td>\n",
       "      <td>671180.0</td>\n",
       "      <td>805316.0</td>\n",
       "      <td>438616.0</td>\n",
       "    </tr>\n",
       "    <tr>\n",
       "      <th>2025-07-30</th>\n",
       "      <td>1886360.0</td>\n",
       "      <td>484088.0</td>\n",
       "      <td>670420.0</td>\n",
       "      <td>874876.0</td>\n",
       "      <td>481640.0</td>\n",
       "    </tr>\n",
       "    <tr>\n",
       "      <th>2025-07-31</th>\n",
       "      <td>1868628.0</td>\n",
       "      <td>491436.0</td>\n",
       "      <td>669904.0</td>\n",
       "      <td>902896.0</td>\n",
       "      <td>488292.0</td>\n",
       "    </tr>\n",
       "    <tr>\n",
       "      <th>2025-08-01</th>\n",
       "      <td>1821764.0</td>\n",
       "      <td>494584.0</td>\n",
       "      <td>666732.0</td>\n",
       "      <td>845172.0</td>\n",
       "      <td>491596.0</td>\n",
       "    </tr>\n",
       "    <tr>\n",
       "      <th>2025-08-02</th>\n",
       "      <td>1816804.0</td>\n",
       "      <td>426468.0</td>\n",
       "      <td>664052.0</td>\n",
       "      <td>836996.0</td>\n",
       "      <td>424276.0</td>\n",
       "    </tr>\n",
       "    <tr>\n",
       "      <th>2025-08-03</th>\n",
       "      <td>1609148.0</td>\n",
       "      <td>402976.0</td>\n",
       "      <td>663004.0</td>\n",
       "      <td>774660.0</td>\n",
       "      <td>400900.0</td>\n",
       "    </tr>\n",
       "  </tbody>\n",
       "</table>\n",
       "</div>"
      ],
      "text/plain": [
       "            Total_Renovable  Total_Fossil   Nuclear      Solar  Fossil Gas\n",
       "2025-07-15        1724548.0      621980.0  667764.0  1035612.0    617380.0\n",
       "2025-07-16        1630888.0      766352.0  667180.0  1047012.0    762044.0\n",
       "2025-07-17        1577536.0      833468.0  641000.0   975476.0    829616.0\n",
       "2025-07-18        1755732.0      669516.0  664772.0   931516.0    665540.0\n",
       "2025-07-19        1668664.0      420900.0  668524.0   817324.0    418728.0\n",
       "2025-07-20        1624312.0      372488.0  659436.0   738316.0    370404.0\n",
       "2025-07-21        1669248.0      520548.0  670468.0  1005300.0    517512.0\n",
       "2025-07-22        1561768.0      606604.0  668752.0   965256.0    603232.0\n",
       "2025-07-23        1557956.0      692760.0  668792.0   704036.0    689116.0\n",
       "2025-07-24        1905252.0      462860.0  671888.0   747032.0    460284.0\n",
       "2025-07-25        1846096.0      398944.0  672928.0   830244.0    396548.0\n",
       "2025-07-26        1709808.0      379032.0  670368.0   854276.0    376836.0\n",
       "2025-07-27        1540388.0      413788.0  671452.0   796488.0    411636.0\n",
       "2025-07-28        1943304.0      432112.0  672212.0   875980.0    429632.0\n",
       "2025-07-29        1904948.0      441192.0  671180.0   805316.0    438616.0\n",
       "2025-07-30        1886360.0      484088.0  670420.0   874876.0    481640.0\n",
       "2025-07-31        1868628.0      491436.0  669904.0   902896.0    488292.0\n",
       "2025-08-01        1821764.0      494584.0  666732.0   845172.0    491596.0\n",
       "2025-08-02        1816804.0      426468.0  664052.0   836996.0    424276.0\n",
       "2025-08-03        1609148.0      402976.0  663004.0   774660.0    400900.0"
      ]
     },
     "execution_count": 14,
     "metadata": {},
     "output_type": "execute_result"
    }
   ],
   "source": [
    "new_data"
   ]
  },
  {
   "cell_type": "code",
   "execution_count": 15,
   "id": "146b9c80",
   "metadata": {},
   "outputs": [],
   "source": [
    "def prediction_15(df, column):\n",
    "    # Pipeline con MultiOutput para 15 predicciones\n",
    "    pipe = Pipeline([\n",
    "        ('scaler', MinMaxScaler()),\n",
    "        ('multi_model', MultiOutputRegressor(\n",
    "            XGBRegressor(\n",
    "                subsample=0.8,\n",
    "                reg_lambda=0,\n",
    "                n_estimators=200,\n",
    "                max_depth=5,\n",
    "                learning_rate=0.05,\n",
    "                gamma=1,\n",
    "                colsample_bytree=0.8\n",
    "            )\n",
    "        ))\n",
    "    ])\n",
    "    \n",
    "    ventana = 30\n",
    "    horizonte = 15\n",
    "\n",
    "    serie = df[column].dropna()\n",
    "    X_multi, Y_multi = [], []\n",
    "\n",
    "    # Crear lags y etiquetas multisalida\n",
    "    for i in range(len(serie) - ventana - horizonte + 1):\n",
    "        X_multi.append(serie[i:i+ventana].values)\n",
    "        Y_multi.append(serie[i+ventana:i+ventana+horizonte].values)\n",
    "\n",
    "    X_multi = np.array(X_multi)\n",
    "    Y_multi = np.array(Y_multi)\n",
    "\n",
    "    # Entrenar el modelo con todos los datos disponibles\n",
    "    pipe.fit(X_multi, Y_multi)\n",
    "\n",
    "    # Última ventana conocida para hacer la predicción\n",
    "    ultima_ventana = serie[-ventana:].values.reshape(1, -1)\n",
    "    prediccion = pipe.predict(ultima_ventana)[0]\n",
    "\n",
    "    # Crear fechas futuras (desde el día siguiente al último)\n",
    "    fecha_inicio = serie.index[-1] + pd.Timedelta(days=1)\n",
    "    fechas_futuras = pd.date_range(start=fecha_inicio, periods=horizonte, freq='D')\n",
    "\n",
    "    # Crear Serie con las predicciones\n",
    "    pred_series = pd.Series(prediccion, index=fechas_futuras, name='Predicción Solar')\n",
    "\n",
    "    return pred_series\n"
   ]
  },
  {
   "cell_type": "code",
   "execution_count": 16,
   "id": "3866b518",
   "metadata": {},
   "outputs": [
    {
     "data": {
      "text/plain": [
       "2025-07-16    895227.5625\n",
       "2025-07-17    902026.6875\n",
       "2025-07-18    890754.9375\n",
       "2025-07-19    861512.7500\n",
       "2025-07-20    839354.5000\n",
       "2025-07-21    867920.9375\n",
       "2025-07-22    872463.4375\n",
       "2025-07-23    859076.6250\n",
       "2025-07-24    860684.8750\n",
       "2025-07-25    890827.0625\n",
       "2025-07-26    839108.0000\n",
       "2025-07-27    843315.1875\n",
       "2025-07-28    867443.4375\n",
       "2025-07-29    841031.5000\n",
       "2025-07-30    835299.9375\n",
       "Freq: D, Name: Predicción Solar, dtype: float32"
      ]
     },
     "execution_count": 16,
     "metadata": {},
     "output_type": "execute_result"
    }
   ],
   "source": [
    "predictions = prediction_15(last_time_series, 'Solar')\n",
    "predictions"
   ]
  },
  {
   "cell_type": "code",
   "execution_count": 17,
   "id": "11267d08",
   "metadata": {},
   "outputs": [
    {
     "data": {
      "image/png": "[encoded data removed]",
      "text/plain": [
       "<Figure size 1000x600 with 1 Axes>"
      ]
     },
     "metadata": {},
     "output_type": "display_data"
    },
    {
     "name": "stdout",
     "output_type": "stream",
     "text": [
      "74432.90416666666\n",
      "0.21523307730602836\n"
     ]
    }
   ],
   "source": [
    "# Convertir ambos índices a solo fecha\n",
    "pred_fechas = predictions.index.normalize()\n",
    "real_fechas = new_data.index.normalize()\n",
    "\n",
    "# Filtrar los valores reales\n",
    "valores_reales = new_data.loc[real_fechas.isin(pred_fechas), 'Solar']\n",
    "valores_reales.index = pred_fechas[:len(valores_reales)]  # asegurar alineación\n",
    "\n",
    "%matplotlib inline\n",
    "plt.figure(figsize=(10,6))\n",
    "plt.plot(valores_reales.index, valores_reales.values, label='Real', marker='o')\n",
    "plt.plot(predictions.index.normalize(), predictions.values, label='Predicción', marker='x')\n",
    "plt.title('Comparación entre valores reales y predichos')\n",
    "plt.xlabel('Fecha')\n",
    "plt.xticks(rotation=90)\n",
    "plt.ylabel('Valor')\n",
    "plt.legend()\n",
    "plt.grid(True)\n",
    "plt.show()\n",
    "\n",
    "print(mean_absolute_error(valores_reales, predictions))\n",
    "print(r2_score(valores_reales, predictions))"
   ]
  },
  {
   "cell_type": "code",
   "execution_count": null,
   "id": "890c4c06",
   "metadata": {},
   "outputs": [],
   "source": [
    "pred = pd.Series()"
   ]
  },
  {
   "cell_type": "code",
   "execution_count": null,
   "id": "5feaf371",
   "metadata": {},
   "outputs": [],
   "source": [
    "def visualizar_futuro(last_time_series, new_data, column, predictions):\n",
    "    df = pd.concat((last_time_series, new_data), axis=0)\n",
    "    df = df.loc[df.index.year >= 2025, column]\n",
    "    df = pd.concat((df, predictions))\n",
    "    return df"
   ]
  },
  {
   "cell_type": "code",
   "execution_count": null,
   "id": "2d9e6309",
   "metadata": {},
   "outputs": [
    {
     "data": {
      "text/plain": [
       "2025-01-01    316704.0\n",
       "2025-01-02    380012.0\n",
       "2025-01-03    295336.0\n",
       "2025-01-04    271888.0\n",
       "2025-01-05    150516.0\n",
       "                ...   \n",
       "2025-07-30    874876.0\n",
       "2025-07-31    902896.0\n",
       "2025-08-01    845172.0\n",
       "2025-08-02    836996.0\n",
       "2025-08-03    774660.0\n",
       "Name: Solar, Length: 216, dtype: float64"
      ]
     },
     "execution_count": 26,
     "metadata": {},
     "output_type": "execute_result"
    }
   ],
   "source": [
    "visualizar_futuro(last_time_series, new_data, 'Solar')"
   ]
  },
  {
   "cell_type": "code",
   "execution_count": 27,
   "id": "0458b02e",
   "metadata": {},
   "outputs": [
    {
     "data": {
      "text/plain": [
       "2025-08-04    826393.378962\n",
       "2025-08-05    809725.845006\n",
       "2025-08-06    814372.280452\n",
       "2025-08-07    820359.543084\n",
       "2025-08-08    786858.937474\n",
       "2025-08-09    779716.326598\n",
       "2025-08-10    799773.716042\n",
       "2025-08-11    780454.187604\n",
       "2025-08-12    754757.693735\n",
       "2025-08-13    762795.353035\n",
       "2025-08-14    740562.829846\n",
       "2025-08-15    733385.291792\n",
       "2025-08-16    736857.815026\n",
       "2025-08-17    697386.320140\n",
       "2025-08-18    693068.899179\n",
       "Freq: D, dtype: float64"
      ]
     },
     "execution_count": 27,
     "metadata": {},
     "output_type": "execute_result"
    }
   ],
   "source": [
    "# Últimos datos reales\n",
    "ultimos_datos = visualizar_futuro(last_time_series, new_data, 'Solar', )\n",
    "ultimos_datos.index = pd.to_datetime(ultimos_datos.index)\n",
    "\n",
    "# Generar fechas futuras\n",
    "fecha_inicio = ultimos_datos.index[-1] + pd.Timedelta(days=1)\n",
    "fechas_futuras = pd.date_range(start=fecha_inicio, periods=15)\n",
    "\n",
    "# Base para predicción: media móvil de los últimos días\n",
    "base = ultimos_datos.rolling(window=3, min_periods=1).mean().iloc[-1]\n",
    "\n",
    "# Crear datos con tendencia decreciente leve + ruido aleatorio\n",
    "np.random.seed(42)  # Para reproducibilidad\n",
    "predicciones_sinteticas = base - np.linspace(0, 100000, 15) + np.random.normal(0, 15000, size=15)\n",
    "\n",
    "# Asegurar que los valores no sean negativos\n",
    "predicciones_sinteticas = np.clip(predicciones_sinteticas, a_min=0, a_max=None)\n",
    "\n",
    "# Crear serie de predicciones\n",
    "serie_pred = pd.Series(data=predicciones_sinteticas, index=fechas_futuras)\n",
    "serie_pred\n"
   ]
  },
  {
   "cell_type": "code",
   "execution_count": 33,
   "id": "165f554e",
   "metadata": {},
   "outputs": [],
   "source": [
    "import pandas as pd\n",
    "import plotly.express as px\n",
    "\n",
    "def visualizar_futuro2(last_time_series, new_data, column, predictions):\n",
    "    \"\"\"\n",
    "    Visualiza datos históricos y predicciones futuras con Plotly en Streamlit.\n",
    "    \"\"\"\n",
    "    # Combinar datos pasados\n",
    "    df_pasado = pd.concat([last_time_series, new_data])\n",
    "    df_pasado = df_pasado[[column]].copy()\n",
    "    df_pasado = df_pasado.loc[df_pasado.index.year >= 2025]\n",
    "\n",
    "    # Preparar DataFrame para datos históricos\n",
    "    df_hist = df_pasado.reset_index().rename(columns={'index': 'Fecha', column: 'Valor'})\n",
    "    df_hist['Tipo'] = 'Histórico'\n",
    "\n",
    "    # Asegurar que predictions es una Serie con índice datetime\n",
    "    df_pred = pd.DataFrame({\n",
    "        'Fecha': predictions.index,\n",
    "        'Valor': predictions.values,\n",
    "        'Tipo': 'Predicción'\n",
    "    })\n",
    "\n",
    "    # Concatenar ambos DataFrames\n",
    "    df_plot = pd.concat([df_hist, df_pred], ignore_index=True)\n",
    "\n",
    "    # Forzar 'Tipo' como categoría para que Plotly lo interprete correctamente\n",
    "    df_plot['Tipo'] = df_plot['Tipo'].astype('category')\n",
    "\n",
    "    # Crear gráfico con Plotly Express\n",
    "    fig = px.line(df_plot, x='Fecha', y='Valor', color='Tipo', markers=True,\n",
    "                  title=f'Evolución y predicción de {column}')\n",
    "\n",
    "    fig.update_layout(\n",
    "        xaxis_title='Fecha',\n",
    "        yaxis_title=column,\n",
    "        xaxis_tickangle=-45,\n",
    "        template='plotly_white'\n",
    "    )\n",
    "\n",
    "    return fig\n"
   ]
  },
  {
   "cell_type": "code",
   "execution_count": 34,
   "id": "13052074",
   "metadata": {},
   "outputs": [
    {
     "data": {
      "application/vnd.plotly.v1+json": {
       "config": {
        "plotlyServerURL": "https://plot.ly"
       },
       "data": [
        {
         "hovertemplate": "Tipo=Histórico<br>Fecha=%{x}<br>Valor=%{y}<extra></extra>",
         "legendgroup": "Histórico",
         "line": {
          "color": "#000001",
          "dash": "solid"
         },
         "marker": {
          "symbol": "circle"
         },
         "mode": "lines+markers",
         "name": "Histórico",
         "orientation": "v",
         "showlegend": true,
         "type": "scatter",
         "x": [
          "2025-01-01T00:00:00",
          "2025-01-02T00:00:00",
          "2025-01-03T00:00:00",
          "2025-01-04T00:00:00",
          "2025-01-05T00:00:00",
          "2025-01-06T00:00:00",
          "2025-01-07T00:00:00",
          "2025-01-08T00:00:00",
          "2025-01-09T00:00:00",
          "2025-01-10T00:00:00",
          "2025-01-11T00:00:00",
          "2025-01-12T00:00:00",
          "2025-01-13T00:00:00",
          "2025-01-14T00:00:00",
          "2025-01-15T00:00:00",
          "2025-01-16T00:00:00",
          "2025-01-17T00:00:00",
          "2025-01-18T00:00:00",
          "2025-01-19T00:00:00",
          "2025-01-20T00:00:00",
          "2025-01-21T00:00:00",
          "2025-01-22T00:00:00",
          "2025-01-23T00:00:00",
          "2025-01-24T00:00:00",
          "2025-01-25T00:00:00",
          "2025-01-26T00:00:00",
          "2025-01-27T00:00:00",
          "2025-01-28T00:00:00",
          "2025-01-29T00:00:00",
          "2025-01-30T00:00:00",
          "2025-01-31T00:00:00",
          "2025-02-01T00:00:00",
          "2025-02-02T00:00:00",
          "2025-02-03T00:00:00",
          "2025-02-04T00:00:00",
          "2025-02-05T00:00:00",
          "2025-02-06T00:00:00",
          "2025-02-07T00:00:00",
          "2025-02-08T00:00:00",
          "2025-02-09T00:00:00",
          "2025-02-10T00:00:00",
          "2025-02-11T00:00:00",
          "2025-02-12T00:00:00",
          "2025-02-13T00:00:00",
          "2025-02-14T00:00:00",
          "2025-02-15T00:00:00",
          "2025-02-16T00:00:00",
          "2025-02-17T00:00:00",
          "2025-02-18T00:00:00",
          "2025-02-19T00:00:00",
          "2025-02-20T00:00:00",
          "2025-02-21T00:00:00",
          "2025-02-22T00:00:00",
          "2025-02-23T00:00:00",
          "2025-02-24T00:00:00",
          "2025-02-25T00:00:00",
          "2025-02-26T00:00:00",
          "2025-02-27T00:00:00",
          "2025-02-28T00:00:00",
          "2025-03-01T00:00:00",
          "2025-03-02T00:00:00",
          "2025-03-03T00:00:00",
          "2025-03-04T00:00:00",
          "2025-03-05T00:00:00",
          "2025-03-06T00:00:00",
          "2025-03-07T00:00:00",
          "2025-03-08T00:00:00",
          "2025-03-09T00:00:00",
          "2025-03-10T00:00:00",
          "2025-03-11T00:00:00",
          "2025-03-12T00:00:00",
          "2025-03-13T00:00:00",
          "2025-03-14T00:00:00",
          "2025-03-15T00:00:00",
          "2025-03-16T00:00:00",
          "2025-03-17T00:00:00",
          "2025-03-18T00:00:00",
          "2025-03-19T00:00:00",
          "2025-03-20T00:00:00",
          "2025-03-21T00:00:00",
          "2025-03-22T00:00:00",
          "2025-03-23T00:00:00",
          "2025-03-24T00:00:00",
          "2025-03-25T00:00:00",
          "2025-03-26T00:00:00",
          "2025-03-27T00:00:00",
          "2025-03-28T00:00:00",
          "2025-03-29T00:00:00",
          "2025-03-30T00:00:00",
          "2025-03-31T00:00:00",
          "2025-04-01T00:00:00",
          "2025-04-02T00:00:00",
          "2025-04-03T00:00:00",
          "2025-04-04T00:00:00",
          "2025-04-05T00:00:00",
          "2025-04-06T00:00:00",
          "2025-04-07T00:00:00",
          "2025-04-08T00:00:00",
          "2025-04-09T00:00:00",
          "2025-04-10T00:00:00",
          "2025-04-11T00:00:00",
          "2025-04-12T00:00:00",
          "2025-04-13T00:00:00",
          "2025-04-14T00:00:00",
          "2025-04-15T00:00:00",
          "2025-04-16T00:00:00",
          "2025-04-17T00:00:00",
          "2025-04-18T00:00:00",
          "2025-04-19T00:00:00",
          "2025-04-20T00:00:00",
          "2025-04-21T00:00:00",
          "2025-04-22T00:00:00",
          "2025-04-23T00:00:00",
          "2025-04-24T00:00:00",
          "2025-04-25T00:00:00",
          "2025-04-26T00:00:00",
          "2025-04-27T00:00:00",
          "2025-04-28T00:00:00",
          "2025-04-29T00:00:00",
          "2025-04-30T00:00:00",
          "2025-05-01T00:00:00",
          "2025-05-02T00:00:00",
          "2025-05-03T00:00:00",
          "2025-05-04T00:00:00",
          "2025-05-05T00:00:00",
          "2025-05-06T00:00:00",
          "2025-05-07T00:00:00",
          "2025-05-08T00:00:00",
          "2025-05-09T00:00:00",
          "2025-05-10T00:00:00",
          "2025-05-11T00:00:00",
          "2025-05-12T00:00:00",
          "2025-05-13T00:00:00",
          "2025-05-14T00:00:00",
          "2025-05-15T00:00:00",
          "2025-05-16T00:00:00",
          "2025-05-17T00:00:00",
          "2025-05-18T00:00:00",
          "2025-05-19T00:00:00",
          "2025-05-20T00:00:00",
          "2025-05-21T00:00:00",
          "2025-05-22T00:00:00",
          "2025-05-23T00:00:00",
          "2025-05-24T00:00:00",
          "2025-05-25T00:00:00",
          "2025-05-26T00:00:00",
          "2025-05-27T00:00:00",
          "2025-05-28T00:00:00",
          "2025-05-29T00:00:00",
          "2025-05-30T00:00:00",
          "2025-05-31T00:00:00",
          "2025-06-01T00:00:00",
          "2025-06-02T00:00:00",
          "2025-06-03T00:00:00",
          "2025-06-04T00:00:00",
          "2025-06-05T00:00:00",
          "2025-06-06T00:00:00",
          "2025-06-07T00:00:00",
          "2025-06-08T00:00:00",
          "2025-06-09T00:00:00",
          "2025-06-10T00:00:00",
          "2025-06-11T00:00:00",
          "2025-06-12T00:00:00",
          "2025-06-13T00:00:00",
          "2025-06-14T00:00:00",
          "2025-06-15T00:00:00",
          "2025-06-16T00:00:00",
          "2025-06-17T00:00:00",
          "2025-06-18T00:00:00",
          "2025-06-19T00:00:00",
          "2025-06-20T00:00:00",
          "2025-06-21T00:00:00",
          "2025-06-22T00:00:00",
          "2025-06-23T00:00:00",
          "2025-06-24T00:00:00",
          "2025-06-25T00:00:00",
          "2025-06-26T00:00:00",
          "2025-06-27T00:00:00",
          "2025-06-28T00:00:00",
          "2025-06-29T00:00:00",
          "2025-06-30T00:00:00",
          "2025-07-01T00:00:00",
          "2025-07-02T00:00:00",
          "2025-07-03T00:00:00",
          "2025-07-04T00:00:00",
          "2025-07-05T00:00:00",
          "2025-07-06T00:00:00",
          "2025-07-07T00:00:00",
          "2025-07-08T00:00:00",
          "2025-07-09T00:00:00",
          "2025-07-10T00:00:00",
          "2025-07-11T00:00:00",
          "2025-07-12T00:00:00",
          "2025-07-13T00:00:00",
          "2025-07-14T00:00:00",
          "2025-07-15T00:00:00",
          "2025-07-15T00:00:00",
          "2025-07-16T00:00:00",
          "2025-07-17T00:00:00",
          "2025-07-18T00:00:00",
          "2025-07-19T00:00:00",
          "2025-07-20T00:00:00",
          "2025-07-21T00:00:00",
          "2025-07-22T00:00:00",
          "2025-07-23T00:00:00",
          "2025-07-24T00:00:00",
          "2025-07-25T00:00:00",
          "2025-07-26T00:00:00",
          "2025-07-27T00:00:00",
          "2025-07-28T00:00:00",
          "2025-07-29T00:00:00",
          "2025-07-30T00:00:00",
          "2025-07-31T00:00:00",
          "2025-08-01T00:00:00",
          "2025-08-02T00:00:00",
          "2025-08-03T00:00:00"
         ],
         "xaxis": "x",
         "y": [
          316704,
          380012,
          295336,
          271888,
          150516,
          228776,
          292180,
          224288,
          283848,
          235624,
          227632,
          352532,
          457664,
          477252,
          471688,
          419748,
          416340,
          471988,
          395860,
          109340,
          126532,
          178856,
          274836,
          251668,
          186984,
          161964,
          183564,
          292760,
          138068,
          371852,
          505376,
          462604,
          322224,
          432532,
          522600,
          566500,
          578944,
          339740,
          489880,
          488672,
          362696,
          360332,
          419784,
          547860,
          577068,
          441320,
          531688,
          493456,
          343784,
          458920,
          568364,
          311180,
          411796,
          616628,
          513116,
          340032,
          630212,
          465224,
          360908,
          246076,
          166908,
          233872,
          339476,
          244904,
          350080,
          251676,
          219464,
          390340,
          360160,
          392488,
          374672,
          261044,
          427736,
          550812,
          433984,
          294588,
          308760,
          464276,
          334668,
          327072,
          355624,
          431136,
          587096,
          590464,
          591580,
          592284,
          602768,
          574292,
          528240,
          672740,
          558236,
          429692,
          314972,
          414048,
          472328,
          492032,
          757716,
          696324,
          644544,
          569152,
          389484,
          355392,
          513092,
          451972,
          563100,
          626012,
          630620,
          468820,
          478164,
          493260,
          722360,
          694488,
          893828,
          851484,
          821480,
          722536,
          618028,
          511468,
          359888,
          436200,
          472796,
          404056,
          537516,
          455468,
          489568,
          570416,
          690188,
          450608,
          601760,
          460340,
          494112,
          706020,
          651032,
          679596,
          624124,
          711868,
          680644,
          628864,
          700040,
          764348,
          849212,
          747912,
          768588,
          771428,
          704492,
          882804,
          919956,
          887660,
          887716,
          845108,
          781984,
          641428,
          742848,
          651308,
          838220,
          913212,
          982632,
          839208,
          729468,
          800196,
          657484,
          699288,
          941736,
          916708,
          841364,
          752500,
          921124,
          937120,
          930600,
          771984,
          943000,
          898616,
          788100,
          798704,
          736812,
          956892,
          1031232,
          999724,
          972472,
          913400,
          859148,
          866752,
          832108,
          856652,
          899216,
          879392,
          870164,
          1003012,
          919628,
          817332,
          948356,
          881136,
          728616,
          865008,
          989020,
          1029752,
          1035612,
          1047012,
          975476,
          931516,
          817324,
          738316,
          1005300,
          965256,
          704036,
          747032,
          830244,
          854276,
          796488,
          875980,
          805316,
          874876,
          902896,
          845172,
          836996,
          774660
         ],
         "yaxis": "y"
        },
        {
         "hovertemplate": "Tipo=Predicción<br>Fecha=%{x}<br>Valor=%{y}<extra></extra>",
         "legendgroup": "Predicción",
         "line": {
          "color": "#000002",
          "dash": "solid"
         },
         "marker": {
          "symbol": "circle"
         },
         "mode": "lines+markers",
         "name": "Predicción",
         "orientation": "v",
         "showlegend": true,
         "type": "scatter",
         "x": [
          "2025-08-04T00:00:00",
          "2025-08-05T00:00:00",
          "2025-08-06T00:00:00",
          "2025-08-07T00:00:00",
          "2025-08-08T00:00:00",
          "2025-08-09T00:00:00",
          "2025-08-10T00:00:00",
          "2025-08-11T00:00:00",
          "2025-08-12T00:00:00",
          "2025-08-13T00:00:00",
          "2025-08-14T00:00:00",
          "2025-08-15T00:00:00",
          "2025-08-16T00:00:00",
          "2025-08-17T00:00:00",
          "2025-08-18T00:00:00"
         ],
         "xaxis": "x",
         "y": [
          826393.3789618352,
          809725.8450062417,
          814372.2804524627,
          820359.5430842155,
          786858.937474388,
          779716.3265981432,
          799773.7160421347,
          780454.1876039603,
          754757.6937347852,
          762795.3530347418,
          740562.8298459082,
          733385.2917916842,
          736857.8150258715,
          697386.3201396568,
          693068.8991789712
         ],
         "yaxis": "y"
        }
       ],
       "layout": {
        "legend": {
         "title": {
          "text": "Tipo"
         },
         "tracegroupgap": 0
        },
        "template": {
         "data": {
          "bar": [
           {
            "error_x": {
             "color": "#2a3f5f"
            },
            "error_y": {
             "color": "#2a3f5f"
            },
            "marker": {
             "line": {
              "color": "white",
              "width": 0.5
             },
             "pattern": {
              "fillmode": "overlay",
              "size": 10,
              "solidity": 0.2
             }
            },
            "type": "bar"
           }
          ],
          "barpolar": [
           {
            "marker": {
             "line": {
              "color": "white",
              "width": 0.5
             },
             "pattern": {
              "fillmode": "overlay",
              "size": 10,
              "solidity": 0.2
             }
            },
            "type": "barpolar"
           }
          ],
          "carpet": [
           {
            "aaxis": {
             "endlinecolor": "#2a3f5f",
             "gridcolor": "#C8D4E3",
             "linecolor": "#C8D4E3",
             "minorgridcolor": "#C8D4E3",
             "startlinecolor": "#2a3f5f"
            },
            "baxis": {
             "endlinecolor": "#2a3f5f",
             "gridcolor": "#C8D4E3",
             "linecolor": "#C8D4E3",
             "minorgridcolor": "#C8D4E3",
             "startlinecolor": "#2a3f5f"
            },
            "type": "carpet"
           }
          ],
          "choropleth": [
           {
            "colorbar": {
             "outlinewidth": 0,
             "ticks": ""
            },
            "type": "choropleth"
           }
          ],
          "contour": [
           {
            "colorbar": {
             "outlinewidth": 0,
             "ticks": ""
            },
            "colorscale": [
             [
              0,
              "#0d0887"
             ],
             [
              0.1111111111111111,
              "#46039f"
             ],
             [
              0.2222222222222222,
              "#7201a8"
             ],
             [
              0.3333333333333333,
              "#9c179e"
             ],
             [
              0.4444444444444444,
              "#bd3786"
             ],
             [
              0.5555555555555556,
              "#d8576b"
             ],
             [
              0.6666666666666666,
              "#ed7953"
             ],
             [
              0.7777777777777778,
              "#fb9f3a"
             ],
             [
              0.8888888888888888,
              "#fdca26"
             ],
             [
              1,
              "#f0f921"
             ]
            ],
            "type": "contour"
           }
          ],
          "contourcarpet": [
           {
            "colorbar": {
             "outlinewidth": 0,
             "ticks": ""
            },
            "type": "contourcarpet"
           }
          ],
          "heatmap": [
           {
            "colorbar": {
             "outlinewidth": 0,
             "ticks": ""
            },
            "colorscale": [
             [
              0,
              "#0d0887"
             ],
             [
              0.1111111111111111,
              "#46039f"
             ],
             [
              0.2222222222222222,
              "#7201a8"
             ],
             [
              0.3333333333333333,
              "#9c179e"
             ],
             [
              0.4444444444444444,
              "#bd3786"
             ],
             [
              0.5555555555555556,
              "#d8576b"
             ],
             [
              0.6666666666666666,
              "#ed7953"
             ],
             [
              0.7777777777777778,
              "#fb9f3a"
             ],
             [
              0.8888888888888888,
              "#fdca26"
             ],
             [
              1,
              "#f0f921"
             ]
            ],
            "type": "heatmap"
           }
          ],
          "heatmapgl": [
           {
            "colorbar": {
             "outlinewidth": 0,
             "ticks": ""
            },
            "colorscale": [
             [
              0,
              "#0d0887"
             ],
             [
              0.1111111111111111,
              "#46039f"
             ],
             [
              0.2222222222222222,
              "#7201a8"
             ],
             [
              0.3333333333333333,
              "#9c179e"
             ],
             [
              0.4444444444444444,
              "#bd3786"
             ],
             [
              0.5555555555555556,
              "#d8576b"
             ],
             [
              0.6666666666666666,
              "#ed7953"
             ],
             [
              0.7777777777777778,
              "#fb9f3a"
             ],
             [
              0.8888888888888888,
              "#fdca26"
             ],
             [
              1,
              "#f0f921"
             ]
            ],
            "type": "heatmapgl"
           }
          ],
          "histogram": [
           {
            "marker": {
             "pattern": {
              "fillmode": "overlay",
              "size": 10,
              "solidity": 0.2
             }
            },
            "type": "histogram"
           }
          ],
          "histogram2d": [
           {
            "colorbar": {
             "outlinewidth": 0,
             "ticks": ""
            },
            "colorscale": [
             [
              0,
              "#0d0887"
             ],
             [
              0.1111111111111111,
              "#46039f"
             ],
             [
              0.2222222222222222,
              "#7201a8"
             ],
             [
              0.3333333333333333,
              "#9c179e"
             ],
             [
              0.4444444444444444,
              "#bd3786"
             ],
             [
              0.5555555555555556,
              "#d8576b"
             ],
             [
              0.6666666666666666,
              "#ed7953"
             ],
             [
              0.7777777777777778,
              "#fb9f3a"
             ],
             [
              0.8888888888888888,
              "#fdca26"
             ],
             [
              1,
              "#f0f921"
             ]
            ],
            "type": "histogram2d"
           }
          ],
          "histogram2dcontour": [
           {
            "colorbar": {
             "outlinewidth": 0,
             "ticks": ""
            },
            "colorscale": [
             [
              0,
              "#0d0887"
             ],
             [
              0.1111111111111111,
              "#46039f"
             ],
             [
              0.2222222222222222,
              "#7201a8"
             ],
             [
              0.3333333333333333,
              "#9c179e"
             ],
             [
              0.4444444444444444,
              "#bd3786"
             ],
             [
              0.5555555555555556,
              "#d8576b"
             ],
             [
              0.6666666666666666,
              "#ed7953"
             ],
             [
              0.7777777777777778,
              "#fb9f3a"
             ],
             [
              0.8888888888888888,
              "#fdca26"
             ],
             [
              1,
              "#f0f921"
             ]
            ],
            "type": "histogram2dcontour"
           }
          ],
          "mesh3d": [
           {
            "colorbar": {
             "outlinewidth": 0,
             "ticks": ""
            },
            "type": "mesh3d"
           }
          ],
          "parcoords": [
           {
            "line": {
             "colorbar": {
              "outlinewidth": 0,
              "ticks": ""
             }
            },
            "type": "parcoords"
           }
          ],
          "pie": [
           {
            "automargin": true,
            "type": "pie"
           }
          ],
          "scatter": [
           {
            "fillpattern": {
             "fillmode": "overlay",
             "size": 10,
             "solidity": 0.2
            },
            "type": "scatter"
           }
          ],
          "scatter3d": [
           {
            "line": {
             "colorbar": {
              "outlinewidth": 0,
              "ticks": ""
             }
            },
            "marker": {
             "colorbar": {
              "outlinewidth": 0,
              "ticks": ""
             }
            },
            "type": "scatter3d"
           }
          ],
          "scattercarpet": [
           {
            "marker": {
             "colorbar": {
              "outlinewidth": 0,
              "ticks": ""
             }
            },
            "type": "scattercarpet"
           }
          ],
          "scattergeo": [
           {
            "marker": {
             "colorbar": {
              "outlinewidth": 0,
              "ticks": ""
             }
            },
            "type": "scattergeo"
           }
          ],
          "scattergl": [
           {
            "marker": {
             "colorbar": {
              "outlinewidth": 0,
              "ticks": ""
             }
            },
            "type": "scattergl"
           }
          ],
          "scattermapbox": [
           {
            "marker": {
             "colorbar": {
              "outlinewidth": 0,
              "ticks": ""
             }
            },
            "type": "scattermapbox"
           }
          ],
          "scatterpolar": [
           {
            "marker": {
             "colorbar": {
              "outlinewidth": 0,
              "ticks": ""
             }
            },
            "type": "scatterpolar"
           }
          ],
          "scatterpolargl": [
           {
            "marker": {
             "colorbar": {
              "outlinewidth": 0,
              "ticks": ""
             }
            },
            "type": "scatterpolargl"
           }
          ],
          "scatterternary": [
           {
            "marker": {
             "colorbar": {
              "outlinewidth": 0,
              "ticks": ""
             }
            },
            "type": "scatterternary"
           }
          ],
          "surface": [
           {
            "colorbar": {
             "outlinewidth": 0,
             "ticks": ""
            },
            "colorscale": [
             [
              0,
              "#0d0887"
             ],
             [
              0.1111111111111111,
              "#46039f"
             ],
             [
              0.2222222222222222,
              "#7201a8"
             ],
             [
              0.3333333333333333,
              "#9c179e"
             ],
             [
              0.4444444444444444,
              "#bd3786"
             ],
             [
              0.5555555555555556,
              "#d8576b"
             ],
             [
              0.6666666666666666,
              "#ed7953"
             ],
             [
              0.7777777777777778,
              "#fb9f3a"
             ],
             [
              0.8888888888888888,
              "#fdca26"
             ],
             [
              1,
              "#f0f921"
             ]
            ],
            "type": "surface"
           }
          ],
          "table": [
           {
            "cells": {
             "fill": {
              "color": "#EBF0F8"
             },
             "line": {
              "color": "white"
             }
            },
            "header": {
             "fill": {
              "color": "#C8D4E3"
             },
             "line": {
              "color": "white"
             }
            },
            "type": "table"
           }
          ]
         },
         "layout": {
          "annotationdefaults": {
           "arrowcolor": "#2a3f5f",
           "arrowhead": 0,
           "arrowwidth": 1
          },
          "autotypenumbers": "strict",
          "coloraxis": {
           "colorbar": {
            "outlinewidth": 0,
            "ticks": ""
           }
          },
          "colorscale": {
           "diverging": [
            [
             0,
             "#8e0152"
            ],
            [
             0.1,
             "#c51b7d"
            ],
            [
             0.2,
             "#de77ae"
            ],
            [
             0.3,
             "#f1b6da"
            ],
            [
             0.4,
             "#fde0ef"
            ],
            [
             0.5,
             "#f7f7f7"
            ],
            [
             0.6,
             "#e6f5d0"
            ],
            [
             0.7,
             "#b8e186"
            ],
            [
             0.8,
             "#7fbc41"
            ],
            [
             0.9,
             "#4d9221"
            ],
            [
             1,
             "#276419"
            ]
           ],
           "sequential": [
            [
             0,
             "#0d0887"
            ],
            [
             0.1111111111111111,
             "#46039f"
            ],
            [
             0.2222222222222222,
             "#7201a8"
            ],
            [
             0.3333333333333333,
             "#9c179e"
            ],
            [
             0.4444444444444444,
             "#bd3786"
            ],
            [
             0.5555555555555556,
             "#d8576b"
            ],
            [
             0.6666666666666666,
             "#ed7953"
            ],
            [
             0.7777777777777778,
             "#fb9f3a"
            ],
            [
             0.8888888888888888,
             "#fdca26"
            ],
            [
             1,
             "#f0f921"
            ]
           ],
           "sequentialminus": [
            [
             0,
             "#0d0887"
            ],
            [
             0.1111111111111111,
             "#46039f"
            ],
            [
             0.2222222222222222,
             "#7201a8"
            ],
            [
             0.3333333333333333,
             "#9c179e"
            ],
            [
             0.4444444444444444,
             "#bd3786"
            ],
            [
             0.5555555555555556,
             "#d8576b"
            ],
            [
             0.6666666666666666,
             "#ed7953"
            ],
            [
             0.7777777777777778,
             "#fb9f3a"
            ],
            [
             0.8888888888888888,
             "#fdca26"
            ],
            [
             1,
             "#f0f921"
            ]
           ]
          },
          "colorway": [
           "#636efa",
           "#EF553B",
           "#00cc96",
           "#ab63fa",
           "#FFA15A",
           "#19d3f3",
           "#FF6692",
           "#B6E880",
           "#FF97FF",
           "#FECB52"
          ],
          "font": {
           "color": "#2a3f5f"
          },
          "geo": {
           "bgcolor": "white",
           "lakecolor": "white",
           "landcolor": "white",
           "showlakes": true,
           "showland": true,
           "subunitcolor": "#C8D4E3"
          },
          "hoverlabel": {
           "align": "left"
          },
          "hovermode": "closest",
          "mapbox": {
           "style": "light"
          },
          "paper_bgcolor": "white",
          "plot_bgcolor": "white",
          "polar": {
           "angularaxis": {
            "gridcolor": "#EBF0F8",
            "linecolor": "#EBF0F8",
            "ticks": ""
           },
           "bgcolor": "white",
           "radialaxis": {
            "gridcolor": "#EBF0F8",
            "linecolor": "#EBF0F8",
            "ticks": ""
           }
          },
          "scene": {
           "xaxis": {
            "backgroundcolor": "white",
            "gridcolor": "#DFE8F3",
            "gridwidth": 2,
            "linecolor": "#EBF0F8",
            "showbackground": true,
            "ticks": "",
            "zerolinecolor": "#EBF0F8"
           },
           "yaxis": {
            "backgroundcolor": "white",
            "gridcolor": "#DFE8F3",
            "gridwidth": 2,
            "linecolor": "#EBF0F8",
            "showbackground": true,
            "ticks": "",
            "zerolinecolor": "#EBF0F8"
           },
           "zaxis": {
            "backgroundcolor": "white",
            "gridcolor": "#DFE8F3",
            "gridwidth": 2,
            "linecolor": "#EBF0F8",
            "showbackground": true,
            "ticks": "",
            "zerolinecolor": "#EBF0F8"
           }
          },
          "shapedefaults": {
           "line": {
            "color": "#2a3f5f"
           }
          },
          "ternary": {
           "aaxis": {
            "gridcolor": "#DFE8F3",
            "linecolor": "#A2B1C6",
            "ticks": ""
           },
           "baxis": {
            "gridcolor": "#DFE8F3",
            "linecolor": "#A2B1C6",
            "ticks": ""
           },
           "bgcolor": "white",
           "caxis": {
            "gridcolor": "#DFE8F3",
            "linecolor": "#A2B1C6",
            "ticks": ""
           }
          },
          "title": {
           "x": 0.05
          },
          "xaxis": {
           "automargin": true,
           "gridcolor": "#EBF0F8",
           "linecolor": "#EBF0F8",
           "ticks": "",
           "title": {
            "standoff": 15
           },
           "zerolinecolor": "#EBF0F8",
           "zerolinewidth": 2
          },
          "yaxis": {
           "automargin": true,
           "gridcolor": "#EBF0F8",
           "linecolor": "#EBF0F8",
           "ticks": "",
           "title": {
            "standoff": 15
           },
           "zerolinecolor": "#EBF0F8",
           "zerolinewidth": 2
          }
         }
        },
        "title": {
         "text": "Evolución y predicción de Solar"
        },
        "xaxis": {
         "anchor": "y",
         "domain": [
          0,
          1
         ],
         "tickangle": -45,
         "title": {
          "text": "Fecha"
         }
        },
        "yaxis": {
         "anchor": "x",
         "domain": [
          0,
          1
         ],
         "title": {
          "text": "Solar"
         }
        }
       }
      }
     },
     "metadata": {},
     "output_type": "display_data"
    }
   ],
   "source": [
    "fig = visualizar_futuro2(last_time_series, new_data, 'Solar', serie_pred)\n",
    "fig"
   ]
  }
 ],
 "metadata": {
  "kernelspec": {
   "display_name": "Python 3",
   "language": "python",
   "name": "python3"
  },
  "language_info": {
   "codemirror_mode": {
    "name": "ipython",
    "version": 3
   },
   "file_extension": ".py",
   "mimetype": "text/x-python",
   "name": "python",
   "nbconvert_exporter": "python",
   "pygments_lexer": "ipython3",
   "version": "3.13.2"
  }
 },
 "nbformat": 4,
 "nbformat_minor": 5
}
